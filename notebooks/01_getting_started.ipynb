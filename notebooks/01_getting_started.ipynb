{
 "cells": [
  {
   "cell_type": "markdown",
   "id": "838f5fb5",
   "metadata": {},
   "source": [
    "# Portfolio Analytics AI - Getting Started\n",
    "\n",
    "This notebook demonstrates the basic functionality of the Portfolio Analytics AI package.\n",
    "\n",
    "## Overview\n",
    "- Create a portfolio with multiple assets\n",
    "- Load historical data\n",
    "- Calculate basic performance metrics\n",
    "- Optimize portfolio weights\n",
    "- Visualize results"
   ]
  },
  {
   "cell_type": "code",
   "execution_count": null,
   "id": "2378f896",
   "metadata": {},
   "outputs": [],
   "source": [
    "# Import necessary libraries\n",
    "import sys\n",
    "import os\n",
    "\n",
    "# Add src to path for imports\n",
    "sys.path.insert(0, os.path.join(os.path.dirname(os.getcwd()), 'src'))\n",
    "\n",
    "import numpy as np\n",
    "import pandas as pd\n",
    "import matplotlib.pyplot as plt\n",
    "\n",
    "from portfolio_analytics import Portfolio, DataProvider\n",
    "from portfolio_analytics.visualization import PortfolioVisualizer\n",
    "\n",
    "# Set up plotting\n",
    "plt.style.use('seaborn-v0_8')\n",
    "%matplotlib inline"
   ]
  },
  {
   "cell_type": "markdown",
   "id": "65106a90",
   "metadata": {},
   "source": [
    "## 1. Create a Portfolio\n",
    "\n",
    "Let's create a portfolio with some popular tech stocks."
   ]
  },
  {
   "cell_type": "code",
   "execution_count": null,
   "id": "809219f0",
   "metadata": {},
   "outputs": [],
   "source": [
    "# Define portfolio symbols\n",
    "symbols = ['AAPL', 'GOOGL', 'MSFT', 'AMZN', 'TSLA']\n",
    "\n",
    "# Create portfolio with equal weights\n",
    "portfolio = Portfolio(symbols, name=\"Tech Portfolio\")\n",
    "\n",
    "print(f\"Created portfolio: {portfolio}\")\n",
    "print(f\"Initial weights: {dict(zip(symbols, portfolio.weights))}\")"
   ]
  },
  {
   "cell_type": "markdown",
   "id": "fe27f224",
   "metadata": {},
   "source": [
    "## 2. Load Historical Data\n",
    "\n",
    "We'll use the DataProvider to fetch historical price data from Yahoo Finance."
   ]
  },
  {
   "cell_type": "code",
   "execution_count": null,
   "id": "fc049ca8",
   "metadata": {},
   "outputs": [],
   "source": [
    "# Initialize data provider\n",
    "data_provider = DataProvider(source=\"yahoo\")\n",
    "\n",
    "# Load historical data (last 3 years)\n",
    "try:\n",
    "    portfolio.load_data(\n",
    "        data_provider=data_provider,\n",
    "        start_date=\"2021-01-01\",\n",
    "        end_date=\"2024-01-01\"\n",
    "    )\n",
    "    print(\"Data loaded successfully!\")\n",
    "    print(f\"Data shape: {portfolio.data.shape}\")\n",
    "    print(f\"Date range: {portfolio.data.index[0]} to {portfolio.data.index[-1]}\")\n",
    "except Exception as e:\n",
    "    print(f\"Error loading data: {e}\")\n",
    "    print(\"Note: This example requires internet connection and yfinance package\")"
   ]
  },
  {
   "cell_type": "markdown",
   "id": "78fb16bc",
   "metadata": {},
   "source": [
    "## 3. Basic Portfolio Analysis"
   ]
  },
  {
   "cell_type": "code",
   "execution_count": null,
   "id": "60bf23fb",
   "metadata": {},
   "outputs": [],
   "source": [
    "# Calculate basic metrics\n",
    "if portfolio.data is not None:\n",
    "    print(\"Portfolio Performance Metrics:\")\n",
    "    print(f\"Annual Return: {portfolio.annual_return():.2%}\")\n",
    "    print(f\"Annual Volatility: {portfolio.annual_volatility():.2%}\")\n",
    "    print(f\"Sharpe Ratio: {portfolio.sharpe_ratio():.3f}\")\n",
    "    print(f\"Value at Risk (95%): {portfolio.calculate_var(0.95):.2%}\")\n",
    "    \n",
    "    # Get comprehensive performance metrics\n",
    "    performance_metrics = portfolio.get_performance_metrics()\n",
    "    print(\"\\nDetailed Performance Metrics:\")\n",
    "    for metric, value in performance_metrics.items():\n",
    "        if isinstance(value, float):\n",
    "            print(f\"{metric}: {value:.4f}\")\n",
    "        else:\n",
    "            print(f\"{metric}: {value}\")\n",
    "else:\n",
    "    print(\"No data available for analysis. Please check data loading step.\")"
   ]
  },
  {
   "cell_type": "markdown",
   "id": "214b4a53",
   "metadata": {},
   "source": [
    "## 4. Portfolio Optimization\n",
    "\n",
    "Let's optimize the portfolio to maximize the Sharpe ratio."
   ]
  },
  {
   "cell_type": "code",
   "execution_count": null,
   "id": "e9bce583",
   "metadata": {},
   "outputs": [],
   "source": [
    "if portfolio.data is not None:\n",
    "    try:\n",
    "        # Store original weights\n",
    "        original_weights = portfolio.weights.copy()\n",
    "        \n",
    "        # Optimize for maximum Sharpe ratio\n",
    "        optimized_weights = portfolio.optimize(method=\"max_sharpe\")\n",
    "        \n",
    "        print(\"Portfolio Optimization Results:\")\n",
    "        print(\"\\nOriginal vs Optimized Weights:\")\n",
    "        \n",
    "        comparison_df = pd.DataFrame({\n",
    "            'Symbol': symbols,\n",
    "            'Original': original_weights,\n",
    "            'Optimized': optimized_weights,\n",
    "            'Change': optimized_weights - original_weights\n",
    "        })\n",
    "        \n",
    "        print(comparison_df.round(4))\n",
    "        \n",
    "        # Calculate metrics for optimized portfolio\n",
    "        print(f\"\\nOptimized Portfolio Metrics:\")\n",
    "        print(f\"Annual Return: {portfolio.annual_return():.2%}\")\n",
    "        print(f\"Annual Volatility: {portfolio.annual_volatility():.2%}\")\n",
    "        print(f\"Sharpe Ratio: {portfolio.sharpe_ratio():.3f}\")\n",
    "        \n",
    "    except Exception as e:\n",
    "        print(f\"Optimization failed: {e}\")\n",
    "        print(\"Note: Optimization requires scipy package\")\n",
    "else:\n",
    "    print(\"No data available for optimization.\")"
   ]
  },
  {
   "cell_type": "markdown",
   "id": "4440ca92",
   "metadata": {},
   "source": [
    "## 5. Visualization\n",
    "\n",
    "Let's create some visualizations of our portfolio."
   ]
  },
  {
   "cell_type": "code",
   "execution_count": null,
   "id": "382ae2a8",
   "metadata": {},
   "outputs": [],
   "source": [
    "if portfolio.data is not None:\n",
    "    # Initialize visualizer\n",
    "    visualizer = PortfolioVisualizer()\n",
    "    \n",
    "    # Plot price history\n",
    "    try:\n",
    "        visualizer.plot_price_history(\n",
    "            portfolio.data,\n",
    "            title=\"Portfolio Assets Price History\",\n",
    "            figsize=(12, 6)\n",
    "        )\n",
    "    except Exception as e:\n",
    "        print(f\"Error plotting price history: {e}\")\n",
    "    \n",
    "    # Plot correlation matrix\n",
    "    try:\n",
    "        visualizer.plot_correlation_matrix(\n",
    "            portfolio.returns,\n",
    "            title=\"Asset Correlation Matrix\",\n",
    "            figsize=(8, 6)\n",
    "        )\n",
    "    except Exception as e:\n",
    "        print(f\"Error plotting correlation matrix: {e}\")\n",
    "    \n",
    "    # Plot portfolio composition\n",
    "    try:\n",
    "        weights_dict = dict(zip(symbols, portfolio.weights))\n",
    "        visualizer.plot_portfolio_composition(\n",
    "            weights_dict,\n",
    "            title=\"Optimized Portfolio Composition\",\n",
    "            chart_type=\"pie\",\n",
    "            figsize=(8, 8)\n",
    "        )\n",
    "    except Exception as e:\n",
    "        print(f\"Error plotting portfolio composition: {e}\")\n",
    "        \n",
    "    # Plot cumulative returns\n",
    "    try:\n",
    "        portfolio_returns = (portfolio.returns * portfolio.weights).sum(axis=1)\n",
    "        visualizer.plot_cumulative_returns(\n",
    "            portfolio_returns,\n",
    "            title=\"Portfolio Cumulative Returns\",\n",
    "            figsize=(12, 6)\n",
    "        )\n",
    "    except Exception as e:\n",
    "        print(f\"Error plotting cumulative returns: {e}\")\n",
    "else:\n",
    "    print(\"No data available for visualization.\")"
   ]
  },
  {
   "cell_type": "markdown",
   "id": "aa5dde10",
   "metadata": {},
   "source": [
    "## 6. Risk Analysis"
   ]
  },
  {
   "cell_type": "code",
   "execution_count": null,
   "id": "76011439",
   "metadata": {},
   "outputs": [],
   "source": [
    "if portfolio.data is not None:\n",
    "    # Calculate comprehensive risk metrics\n",
    "    portfolio_returns = (portfolio.returns * portfolio.weights).sum(axis=1)\n",
    "    \n",
    "    risk_metrics = portfolio.risk_model.calculate_risk_metrics(\n",
    "        portfolio_returns,\n",
    "        confidence_levels=[0.95, 0.99]\n",
    "    )\n",
    "    \n",
    "    print(\"Risk Analysis:\")\n",
    "    print(\"=\" * 40)\n",
    "    \n",
    "    for metric, value in risk_metrics.items():\n",
    "        if isinstance(value, float):\n",
    "            if 'var' in metric.lower() or 'expected_shortfall' in metric.lower():\n",
    "                print(f\"{metric}: {value:.2%}\")\n",
    "            elif 'ratio' in metric.lower():\n",
    "                print(f\"{metric}: {value:.3f}\")\n",
    "            else:\n",
    "                print(f\"{metric}: {value:.4f}\")\n",
    "        else:\n",
    "            print(f\"{metric}: {value}\")\n",
    "else:\n",
    "    print(\"No data available for risk analysis.\")"
   ]
  },
  {
   "cell_type": "markdown",
   "id": "c7feb97d",
   "metadata": {},
   "source": [
    "## 7. Portfolio Summary"
   ]
  },
  {
   "cell_type": "code",
   "execution_count": null,
   "id": "128f9a8a",
   "metadata": {},
   "outputs": [],
   "source": [
    "# Generate comprehensive portfolio summary\n",
    "summary = portfolio.summary()\n",
    "\n",
    "print(\"Portfolio Summary:\")\n",
    "print(\"=\" * 50)\n",
    "\n",
    "for key, value in summary.items():\n",
    "    if isinstance(value, dict):\n",
    "        print(f\"\\n{key.upper()}:\")\n",
    "        for subkey, subvalue in value.items():\n",
    "            print(f\"  {subkey}: {subvalue}\")\n",
    "    elif isinstance(value, list):\n",
    "        print(f\"{key}: {', '.join(map(str, value))}\")\n",
    "    elif isinstance(value, float):\n",
    "        if any(metric in key.lower() for metric in ['return', 'volatility', 'var']):\n",
    "            print(f\"{key}: {value:.2%}\")\n",
    "        else:\n",
    "            print(f\"{key}: {value:.4f}\")\n",
    "    else:\n",
    "        print(f\"{key}: {value}\")"
   ]
  },
  {
   "cell_type": "markdown",
   "id": "9e465fea",
   "metadata": {},
   "source": [
    "## Conclusion\n",
    "\n",
    "This notebook demonstrated the basic functionality of the Portfolio Analytics AI package:\n",
    "\n",
    "1. **Portfolio Creation**: Created a diversified tech portfolio\n",
    "2. **Data Loading**: Fetched historical price data from Yahoo Finance\n",
    "3. **Performance Analysis**: Calculated key performance metrics\n",
    "4. **Optimization**: Optimized weights to maximize Sharpe ratio\n",
    "5. **Visualization**: Created charts to visualize portfolio performance\n",
    "6. **Risk Analysis**: Analyzed various risk metrics including VaR\n",
    "\n",
    "### Next Steps\n",
    "\n",
    "- Explore other optimization methods (minimum variance, target return)\n",
    "- Add benchmark comparison (e.g., S&P 500)\n",
    "- Implement more advanced risk models\n",
    "- Create custom constraints for optimization\n",
    "- Build interactive dashboards"
   ]
  }
 ],
 "metadata": {
  "language_info": {
   "name": "python"
  }
 },
 "nbformat": 4,
 "nbformat_minor": 5
}
